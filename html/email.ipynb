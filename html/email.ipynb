{
 "cells": [
  {
   "attachments": {},
   "cell_type": "markdown",
   "metadata": {},
   "source": [
    "## 메일 자동화"
   ]
  },
  {
   "cell_type": "code",
   "execution_count": null,
   "metadata": {},
   "outputs": [],
   "source": [
    "import smtplib\n",
    "import email"
   ]
  },
  {
   "cell_type": "code",
   "execution_count": null,
   "metadata": {},
   "outputs": [],
   "source": [
    "SMTP_SERVER = 'smtp.naver.com'\n",
    "SMTP_PORT = 465\n",
    "SMTP_USER = 'yyjnice06@naver.com'\n",
    "SMTP_PASSWORD = 'youngjoo00'\n",
    "# SMTP_PASSWORD = ''"
   ]
  },
  {
   "cell_type": "code",
   "execution_count": null,
   "metadata": {},
   "outputs": [],
   "source": [
    "from email.mime.multipart import MIMEMultipart\n",
    "from email.mime.text import MIMEText\n",
    "\n",
    "to_users = ['yyjnice0508@gmail.com']\n",
    "target_addr = ','.join(to_users)\n",
    "subject = 'hello nara'\n",
    "contents = '이게 나라냐????'\n",
    "\n",
    "msg = MIMEMultipart('alternative')\n",
    "\n",
    "msg['From'] = SMTP_USER\n",
    "msg['To'] = target_addr\n",
    "msg['Subject'] = subject\n",
    "text = MIMEText(contents)\n",
    "msg.attach(text)"
   ]
  },
  {
   "cell_type": "code",
   "execution_count": null,
   "metadata": {},
   "outputs": [],
   "source": [
    "# HTML 내용 추가\n",
    "with open('./newsletter.html', 'r', encoding='utf-8') as file:\n",
    "    html = file.read()\n",
    "msg.attach(MIMEText(html, 'html'))"
   ]
  },
  {
   "cell_type": "code",
   "execution_count": null,
   "metadata": {},
   "outputs": [],
   "source": [
    "smtp = smtplib.SMTP_SSL(SMTP_SERVER, SMTP_PORT)\n",
    "smtp.login(SMTP_USER, SMTP_PASSWORD)\n",
    "smtp.sendmail(SMTP_USER, to_users, msg.as_string())\n",
    "smtp.close()"
   ]
  },
  {
   "cell_type": "code",
   "execution_count": null,
   "metadata": {},
   "outputs": [],
   "source": []
  },
  {
   "attachments": {},
   "cell_type": "markdown",
   "metadata": {},
   "source": [
    "### 첨부파일 추가"
   ]
  },
  {
   "cell_type": "code",
   "execution_count": null,
   "metadata": {},
   "outputs": [],
   "source": [
    "from email.mime.multipart import MIMEMultipart\n",
    "from email.mime.text import MIMEText\n",
    "\n",
    "to_users = ['']\n",
    "target_addr = ','.join(to_users)\n",
    "subject = '테스트 메일 발송입니다.'\n",
    "contents = '메일 내용입니다.'\n",
    "\n",
    "msg = MIMEMultipart('mixed') # alternative\n",
    "\n",
    "msg['From'] = SMTP_USER\n",
    "msg['To'] = target_addr\n",
    "msg['Subject'] = subject\n",
    "text = MIMEText(contents)\n",
    "msg.attach(text)"
   ]
  },
  {
   "cell_type": "code",
   "execution_count": 6,
   "metadata": {},
   "outputs": [
    {
     "name": "stdout",
     "output_type": "stream",
     "text": [
      "커리큘럼.xlsx\n"
     ]
    }
   ],
   "source": [
    "from email.mime.base import MIMEBase\n",
    "from email import encoders\n",
    "\n",
    "from os.path import basename\n",
    "\n",
    "email_file = MIMEBase('application', 'octet-stream') # vnd.ms.excel\n",
    "\n",
    "with open('./커리큘럼.xlsx', 'rb') as f:\n",
    "    file_data = f.read()\n",
    "email_file.set_payload(file_data)\n",
    "encoders.encode_base64(email_file)\n",
    "\n",
    "file_name = basename('./커리큘럼.xlsx')\n",
    "print(file_name)\n",
    "email_file.add_header('Content-Disposition', 'attachment', filename=file_name)\n",
    "\n",
    "msg.attach(email_file)"
   ]
  },
  {
   "cell_type": "code",
   "execution_count": 7,
   "metadata": {},
   "outputs": [],
   "source": [
    "smtp = smtplib.SMTP_SSL(SMTP_SERVER, SMTP_PORT)\n",
    "smtp.login(SMTP_USER, SMTP_PASSWORD)\n",
    "smtp.sendmail(SMTP_USER, to_users, msg.as_string())\n",
    "smtp.close()"
   ]
  },
  {
   "cell_type": "code",
   "execution_count": null,
   "metadata": {},
   "outputs": [],
   "source": []
  },
  {
   "attachments": {},
   "cell_type": "markdown",
   "metadata": {},
   "source": [
    "## 텔레그램 자동화"
   ]
  },
  {
   "cell_type": "code",
   "execution_count": null,
   "metadata": {},
   "outputs": [],
   "source": [
    "%pip install python-telegram-bot"
   ]
  },
  {
   "cell_type": "code",
   "execution_count": 12,
   "metadata": {},
   "outputs": [],
   "source": [
    "token = ''"
   ]
  },
  {
   "cell_type": "code",
   "execution_count": 14,
   "metadata": {},
   "outputs": [],
   "source": [
    "import telegram"
   ]
  },
  {
   "cell_type": "code",
   "execution_count": null,
   "metadata": {},
   "outputs": [],
   "source": [
    "bot = telegram.Bot(token)"
   ]
  },
  {
   "cell_type": "code",
   "execution_count": null,
   "metadata": {},
   "outputs": [],
   "source": [
    "updates = await bot.get_updates()"
   ]
  },
  {
   "cell_type": "code",
   "execution_count": 33,
   "metadata": {},
   "outputs": [
    {
     "name": "stdout",
     "output_type": "stream",
     "text": [
      "6227359241\n"
     ]
    }
   ],
   "source": [
    "# 신규 메시지 조회\n",
    "print(updates[-1].message.chat.id)"
   ]
  },
  {
   "attachments": {},
   "cell_type": "markdown",
   "metadata": {},
   "source": [
    "### 텍스트 발송"
   ]
  },
  {
   "cell_type": "code",
   "execution_count": null,
   "metadata": {},
   "outputs": [],
   "source": [
    "await bot.send_messages(chat_id='6227359241', text='보낼 메시지 내용')"
   ]
  },
  {
   "attachments": {},
   "cell_type": "markdown",
   "metadata": {},
   "source": [
    "### 이미지 발송"
   ]
  },
  {
   "cell_type": "code",
   "execution_count": 28,
   "metadata": {},
   "outputs": [],
   "source": [
    "import requests\n",
    "r = requests.get('https://upload.wikimedia.org/wikipedia/commons/3/37/Oryctolagus_cuniculus_Tasmania_2.jpg')\n",
    "\n",
    "image_data = r.content"
   ]
  },
  {
   "cell_type": "code",
   "execution_count": null,
   "metadata": {},
   "outputs": [],
   "source": [
    "# image_file = open('image_path', 'rb')\n",
    "await bot.send_photo('6227359241', image_data)"
   ]
  },
  {
   "cell_type": "code",
   "execution_count": null,
   "metadata": {},
   "outputs": [],
   "source": []
  }
 ],
 "metadata": {
  "kernelspec": {
   "display_name": "prjk",
   "language": "python",
   "name": "prj"
  },
  "language_info": {
   "codemirror_mode": {
    "name": "ipython",
    "version": 3
   },
   "file_extension": ".py",
   "mimetype": "text/x-python",
   "name": "python",
   "nbconvert_exporter": "python",
   "pygments_lexer": "ipython3",
   "version": "3.8.16"
  },
  "orig_nbformat": 4,
  "vscode": {
   "interpreter": {
    "hash": "92edf46f9e42bd9918672ca22766f002f31ad51b7dc028bdba45a06c1a8ce0ff"
   }
  }
 },
 "nbformat": 4,
 "nbformat_minor": 2
}
